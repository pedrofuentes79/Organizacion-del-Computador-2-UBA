{
 "cells": [
  {
   "cell_type": "code",
   "execution_count": 6,
   "metadata": {},
   "outputs": [],
   "source": [
    "import cv2\n",
    "\n",
    "expected = \"./expected/ej2_1.png\"\n",
    "actual = \"./outputs/ej2_1.png\""
   ]
  },
  {
   "cell_type": "code",
   "execution_count": 9,
   "metadata": {},
   "outputs": [],
   "source": [
    "# compare pixel by pixel\n",
    "def compare_images(expected, actual):\n",
    "    expected_img = cv2.imread(expected)\n",
    "    actual_img = cv2.imread(actual)\n",
    "\n",
    "    if expected_img.shape != actual_img.shape:\n",
    "        return False\n",
    "\n",
    "    ## show where it is differnet\n",
    "    diff = cv2.subtract(expected_img, actual_img)\n",
    "    cv2.imshow(\"diff\", diff)\n",
    "    if cv2.waitKey(0) & 0xFF == ord('q'):\n",
    "       cv2.destroyAllWindows()\n",
    "\n",
    "    # get first pixel in which they differ\n",
    "    # for i in range(expected_img.shape[0]):\n",
    "    #     for j in range(expected_img.shape[1]):\n",
    "    #         if not (expected_img[i][j] == actual_img[i][j]).all():\n",
    "    #             print(f\"First pixel where images differ: ({i}, {j})\")\n",
    "    #             return False\n",
    "    \n",
    "\n",
    "        \n"
   ]
  },
  {
   "cell_type": "code",
   "execution_count": 10,
   "metadata": {},
   "outputs": [],
   "source": [
    "compare_images(expected, actual)"
   ]
  }
 ],
 "metadata": {
  "kernelspec": {
   "display_name": "Python 3",
   "language": "python",
   "name": "python3"
  },
  "language_info": {
   "codemirror_mode": {
    "name": "ipython",
    "version": 3
   },
   "file_extension": ".py",
   "mimetype": "text/x-python",
   "name": "python",
   "nbconvert_exporter": "python",
   "pygments_lexer": "ipython3",
   "version": "3.10.12"
  }
 },
 "nbformat": 4,
 "nbformat_minor": 2
}
